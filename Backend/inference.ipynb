{
 "cells": [
  {
   "cell_type": "code",
   "execution_count": 3,
   "id": "71f1bb95",
   "metadata": {},
   "outputs": [],
   "source": [
    "from transformers import BertForSequenceClassification, BertTokenizer\n",
    "import faiss\n",
    "import pickle\n",
    "\n",
    "# Load model & tokenizer\n",
    "model = BertForSequenceClassification.from_pretrained(\"saved_model/bert_disease_classifier\")\n",
    "tokenizer = BertTokenizer.from_pretrained(\"saved_model/bert_disease_classifier\")\n",
    "\n",
    "# Load FAISS\n",
    "index = faiss.read_index(\"saved_model/faiss_index.index\")\n",
    "\n",
    "# Load records and label encoder\n",
    "with open(\"saved_model/full_records.pkl\", \"rb\") as f:\n",
    "    full_records = pickle.load(f)\n",
    "\n",
    "with open(\"saved_model/label_encoder.pkl\", \"rb\") as f:\n",
    "    label_encoder = pickle.load(f)\n"
   ]
  },
  {
   "cell_type": "code",
   "execution_count": 5,
   "id": "49764545",
   "metadata": {},
   "outputs": [],
   "source": [
    "import torch"
   ]
  },
  {
   "cell_type": "code",
   "execution_count": 17,
   "id": "f9d844b6",
   "metadata": {},
   "outputs": [
    {
     "data": {
      "text/plain": [
       "BertForSequenceClassification(\n",
       "  (bert): BertModel(\n",
       "    (embeddings): BertEmbeddings(\n",
       "      (word_embeddings): Embedding(30522, 768, padding_idx=0)\n",
       "      (position_embeddings): Embedding(512, 768)\n",
       "      (token_type_embeddings): Embedding(2, 768)\n",
       "      (LayerNorm): LayerNorm((768,), eps=1e-12, elementwise_affine=True)\n",
       "      (dropout): Dropout(p=0.1, inplace=False)\n",
       "    )\n",
       "    (encoder): BertEncoder(\n",
       "      (layer): ModuleList(\n",
       "        (0-11): 12 x BertLayer(\n",
       "          (attention): BertAttention(\n",
       "            (self): BertSdpaSelfAttention(\n",
       "              (query): Linear(in_features=768, out_features=768, bias=True)\n",
       "              (key): Linear(in_features=768, out_features=768, bias=True)\n",
       "              (value): Linear(in_features=768, out_features=768, bias=True)\n",
       "              (dropout): Dropout(p=0.1, inplace=False)\n",
       "            )\n",
       "            (output): BertSelfOutput(\n",
       "              (dense): Linear(in_features=768, out_features=768, bias=True)\n",
       "              (LayerNorm): LayerNorm((768,), eps=1e-12, elementwise_affine=True)\n",
       "              (dropout): Dropout(p=0.1, inplace=False)\n",
       "            )\n",
       "          )\n",
       "          (intermediate): BertIntermediate(\n",
       "            (dense): Linear(in_features=768, out_features=3072, bias=True)\n",
       "            (intermediate_act_fn): GELUActivation()\n",
       "          )\n",
       "          (output): BertOutput(\n",
       "            (dense): Linear(in_features=3072, out_features=768, bias=True)\n",
       "            (LayerNorm): LayerNorm((768,), eps=1e-12, elementwise_affine=True)\n",
       "            (dropout): Dropout(p=0.1, inplace=False)\n",
       "          )\n",
       "        )\n",
       "      )\n",
       "    )\n",
       "    (pooler): BertPooler(\n",
       "      (dense): Linear(in_features=768, out_features=768, bias=True)\n",
       "      (activation): Tanh()\n",
       "    )\n",
       "  )\n",
       "  (dropout): Dropout(p=0.1, inplace=False)\n",
       "  (classifier): Linear(in_features=768, out_features=75, bias=True)\n",
       ")"
      ]
     },
     "execution_count": 17,
     "metadata": {},
     "output_type": "execute_result"
    }
   ],
   "source": [
    "device = torch.device(\"cuda\" if torch.cuda.is_available() else \"cpu\")\n",
    "model.to(device)"
   ]
  },
  {
   "cell_type": "code",
   "execution_count": 18,
   "id": "0724bcfc",
   "metadata": {},
   "outputs": [],
   "source": [
    "def predict_disease(symptom_input):\n",
    "    model.eval()\n",
    "    encoding = tokenizer(symptom_input, return_tensors=\"pt\", truncation=True, padding='max_length', max_length=64)\n",
    "    input_ids = encoding['input_ids'].to(device)\n",
    "    attention_mask = encoding['attention_mask'].to(device)\n",
    "    \n",
    "    with torch.no_grad():\n",
    "        outputs = model(input_ids, attention_mask=attention_mask)\n",
    "        pred_label = torch.argmax(outputs.logits, dim=1).item()\n",
    "    \n",
    "    predicted_disease = label_encoder.inverse_transform([pred_label])[0]\n",
    "    return predicted_disease\n"
   ]
  },
  {
   "cell_type": "code",
   "execution_count": 19,
   "id": "8c0d13d5",
   "metadata": {},
   "outputs": [],
   "source": [
    "from sentence_transformers import SentenceTransformer\n",
    "embedder = SentenceTransformer('all-MiniLM-L6-v2')"
   ]
  },
  {
   "cell_type": "code",
   "execution_count": 20,
   "id": "95c23492",
   "metadata": {},
   "outputs": [],
   "source": [
    "def retrieve_full_info(symptom_input, k=3):\n",
    "    input_embedding = embedder.encode([symptom_input]).astype('float32')\n",
    "    D, I = index.search(input_embedding, k)\n",
    "    results = [full_records[i] for i in I[0]]\n",
    "    return results\n"
   ]
  },
  {
   "cell_type": "code",
   "execution_count": 21,
   "id": "6be5830a",
   "metadata": {},
   "outputs": [],
   "source": [
    "def full_pipeline(symptom_list):\n",
    "    input_text = \", \".join(symptom_list)\n",
    "    \n",
    "    predicted_disease = predict_disease(input_text)\n",
    "    retrieved_entries = retrieve_full_info(input_text, k=3)\n",
    "\n",
    "    # Optionally filter based on predicted disease\n",
    "    for entry in retrieved_entries:\n",
    "        if entry[\"Disease\"] == predicted_disease:\n",
    "            return entry\n",
    "    \n",
    "    # Fallback\n",
    "    return {\"Disease\": predicted_disease, \"entry\": entry}\n"
   ]
  },
  {
   "cell_type": "code",
   "execution_count": 22,
   "id": "3696d38a",
   "metadata": {},
   "outputs": [],
   "source": [
    "import json"
   ]
  },
  {
   "cell_type": "code",
   "execution_count": 23,
   "id": "cf47f306",
   "metadata": {},
   "outputs": [
    {
     "name": "stdout",
     "output_type": "stream",
     "text": [
      "{\n",
      "  \"Disease\": \"Gastritis\",\n",
      "  \"Symptoms\": [\n",
      "    \"Stomach pain\",\n",
      "    \"bloating\",\n",
      "    \"nausea\"\n",
      "  ],\n",
      "  \"Medicines\": [\n",
      "    \"Omeprazole\",\n",
      "    \"Ranitidine\"\n",
      "  ],\n",
      "  \"Brand Names\": [\n",
      "    \"Omez\",\n",
      "    \"Zinetac\"\n",
      "  ],\n",
      "  \"Dosages\": [\n",
      "    \"20mg\",\n",
      "    \"150mg\"\n",
      "  ],\n",
      "  \"Prices (INR)\": [\n",
      "    \"30\",\n",
      "    \"20\"\n",
      "  ]\n",
      "}\n"
     ]
    }
   ],
   "source": [
    "symptoms = [\"Burning stomach pain, bloating, nausea\"]#, \"Sore throat\", \"Cough\"]\n",
    "result = full_pipeline(symptoms)\n",
    "print(json.dumps(result, indent=2))"
   ]
  }
 ],
 "metadata": {
  "kernelspec": {
   "display_name": "env",
   "language": "python",
   "name": "python3"
  },
  "language_info": {
   "codemirror_mode": {
    "name": "ipython",
    "version": 3
   },
   "file_extension": ".py",
   "mimetype": "text/x-python",
   "name": "python",
   "nbconvert_exporter": "python",
   "pygments_lexer": "ipython3",
   "version": "3.11.11"
  }
 },
 "nbformat": 4,
 "nbformat_minor": 5
}
