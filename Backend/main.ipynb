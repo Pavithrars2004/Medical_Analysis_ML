{
 "cells": [
  {
   "cell_type": "code",
   "execution_count": 2,
   "id": "d8cc93f1",
   "metadata": {},
   "outputs": [
    {
     "name": "stderr",
     "output_type": "stream",
     "text": [
      "/opt/miniconda3/envs/env/lib/python3.11/site-packages/tqdm/auto.py:21: TqdmWarning: IProgress not found. Please update jupyter and ipywidgets. See https://ipywidgets.readthedocs.io/en/stable/user_install.html\n",
      "  from .autonotebook import tqdm as notebook_tqdm\n"
     ]
    }
   ],
   "source": [
    "import json\n",
    "import torch\n",
    "from sklearn.preprocessing import LabelEncoder\n",
    "from transformers import BertTokenizer, BertForSequenceClassification\n",
    "from torch.utils.data import Dataset, DataLoader\n",
    "from sklearn.model_selection import train_test_split\n",
    "\n",
    "# Load JSON entries\n",
    "with open(\"dataset.json\") as f:\n",
    "    data = json.load(f)\n",
    "\n",
    "symptoms_list = [\", \".join(entry[\"Symptoms\"]) for entry in data]\n",
    "diseases = [entry[\"Disease\"] for entry in data]\n",
    "\n",
    "# Encode disease labels\n",
    "label_encoder = LabelEncoder()\n",
    "disease_labels = label_encoder.fit_transform(diseases)"
   ]
  },
  {
   "cell_type": "code",
   "execution_count": 3,
   "id": "bc46c06d",
   "metadata": {},
   "outputs": [],
   "source": [
    "class SymptomDataset(Dataset):\n",
    "    def __init__(self, texts, labels, tokenizer, max_len=64):\n",
    "        self.texts = texts\n",
    "        self.labels = labels\n",
    "        self.tokenizer = tokenizer\n",
    "        self.max_len = max_len\n",
    "    \n",
    "    def __len__(self):\n",
    "        return len(self.texts)\n",
    "    \n",
    "    def __getitem__(self, idx):\n",
    "        text = self.texts[idx]\n",
    "        label = self.labels[idx]\n",
    "        encoding = self.tokenizer(text, truncation=True, padding='max_length', max_length=self.max_len, return_tensors='pt')\n",
    "        return {\n",
    "            'input_ids': encoding['input_ids'].squeeze(),\n",
    "            'attention_mask': encoding['attention_mask'].squeeze(),\n",
    "            'labels': torch.tensor(label, dtype=torch.long)\n",
    "        }\n",
    "\n",
    "tokenizer = BertTokenizer.from_pretrained('bert-base-uncased')\n",
    "train_texts, val_texts, train_labels, val_labels = train_test_split(symptoms_list, disease_labels, test_size=0.2)\n",
    "\n",
    "train_dataset = SymptomDataset(train_texts, train_labels, tokenizer)\n",
    "val_dataset = SymptomDataset(val_texts, val_labels, tokenizer)\n",
    "\n",
    "train_loader = DataLoader(train_dataset, batch_size=8, shuffle=True)\n",
    "val_loader = DataLoader(val_dataset, batch_size=8)\n"
   ]
  },
  {
   "cell_type": "code",
   "execution_count": 4,
   "id": "7699613a",
   "metadata": {},
   "outputs": [
    {
     "name": "stderr",
     "output_type": "stream",
     "text": [
      "Some weights of BertForSequenceClassification were not initialized from the model checkpoint at bert-base-uncased and are newly initialized: ['classifier.bias', 'classifier.weight']\n",
      "You should probably TRAIN this model on a down-stream task to be able to use it for predictions and inference.\n"
     ]
    },
    {
     "name": "stdout",
     "output_type": "stream",
     "text": [
      "Epoch 1 completed.\n",
      "Epoch 2 completed.\n",
      "Epoch 3 completed.\n",
      "Epoch 4 completed.\n",
      "Epoch 5 completed.\n",
      "Epoch 6 completed.\n",
      "Epoch 7 completed.\n",
      "Epoch 8 completed.\n",
      "Epoch 9 completed.\n",
      "Epoch 10 completed.\n"
     ]
    }
   ],
   "source": [
    "from torch.optim import AdamW\n",
    "\n",
    "model = BertForSequenceClassification.from_pretrained('bert-base-uncased', num_labels=len(label_encoder.classes_))\n",
    "optimizer = AdamW(model.parameters(), lr=2e-5)\n",
    "\n",
    "device = torch.device(\"cuda\" if torch.cuda.is_available() else \"cpu\")\n",
    "model.to(device)\n",
    "\n",
    "# Training loop (basic version)\n",
    "for epoch in range(10):\n",
    "    model.train()\n",
    "    for batch in train_loader:\n",
    "        input_ids = batch['input_ids'].to(device)\n",
    "        attention_mask = batch['attention_mask'].to(device)\n",
    "        labels = batch['labels'].to(device)\n",
    "\n",
    "        outputs = model(input_ids, attention_mask=attention_mask, labels=labels)\n",
    "        loss = outputs.loss\n",
    "        loss.backward()\n",
    "        optimizer.step()\n",
    "        optimizer.zero_grad()\n",
    "    print(f\"Epoch {epoch+1} completed.\")\n"
   ]
  },
  {
   "cell_type": "code",
   "execution_count": 5,
   "id": "ee9d3cda",
   "metadata": {},
   "outputs": [],
   "source": [
    "from sentence_transformers import SentenceTransformer\n",
    "import numpy as np\n",
    "import faiss\n",
    "\n",
    "# For retrieval based on symptoms\n",
    "embedder = SentenceTransformer('all-MiniLM-L6-v2')\n",
    "symptom_embeddings = embedder.encode(symptoms_list).astype('float32')\n",
    "\n",
    "# Save full record for retrieval\n",
    "full_records = data\n",
    "\n",
    "# Build FAISS index\n",
    "index = faiss.IndexFlatL2(symptom_embeddings.shape[1])\n",
    "index.add(symptom_embeddings)"
   ]
  },
  {
   "cell_type": "code",
   "execution_count": 6,
   "id": "7153e67a",
   "metadata": {},
   "outputs": [],
   "source": [
    "def predict_disease(symptom_input):\n",
    "    model.eval()\n",
    "    encoding = tokenizer(symptom_input, return_tensors=\"pt\", truncation=True, padding='max_length', max_length=64)\n",
    "    input_ids = encoding['input_ids'].to(device)\n",
    "    attention_mask = encoding['attention_mask'].to(device)\n",
    "    \n",
    "    with torch.no_grad():\n",
    "        outputs = model(input_ids, attention_mask=attention_mask)\n",
    "        pred_label = torch.argmax(outputs.logits, dim=1).item()\n",
    "    \n",
    "    predicted_disease = label_encoder.inverse_transform([pred_label])[0]\n",
    "    return predicted_disease\n"
   ]
  },
  {
   "cell_type": "code",
   "execution_count": 7,
   "id": "a2ed8c6b",
   "metadata": {},
   "outputs": [],
   "source": [
    "def retrieve_full_info(symptom_input, k=3):\n",
    "    input_embedding = embedder.encode([symptom_input]).astype('float32')\n",
    "    D, I = index.search(input_embedding, k)\n",
    "    results = [full_records[i] for i in I[0]]\n",
    "    return results\n"
   ]
  },
  {
   "cell_type": "code",
   "execution_count": 8,
   "id": "b3988fe6",
   "metadata": {},
   "outputs": [],
   "source": [
    "def full_pipeline(symptom_list):\n",
    "    input_text = \", \".join(symptom_list)\n",
    "    \n",
    "    predicted_disease = predict_disease(input_text)\n",
    "    retrieved_entries = retrieve_full_info(input_text, k=3)\n",
    "\n",
    "    # Optionally filter based on predicted disease\n",
    "    for entry in retrieved_entries:\n",
    "        if entry[\"Disease\"] == predicted_disease:\n",
    "            return entry\n",
    "    \n",
    "    # Fallback\n",
    "    return {\"Disease\": predicted_disease, \"entry\": entry}\n"
   ]
  },
  {
   "cell_type": "code",
   "execution_count": 9,
   "id": "a0b27292",
   "metadata": {},
   "outputs": [
    {
     "name": "stdout",
     "output_type": "stream",
     "text": [
      "{\n",
      "  \"Disease\": \"Common Cold\",\n",
      "  \"Symptoms\": [\n",
      "    \"Runny nose\",\n",
      "    \"sore throat\",\n",
      "    \"sneezing\"\n",
      "  ],\n",
      "  \"Medicines\": [\n",
      "    \"Paracetamol\",\n",
      "    \"Antihistamines\"\n",
      "  ],\n",
      "  \"Brand Names\": [\n",
      "    \"Crocin\",\n",
      "    \"Cetirizine\"\n",
      "  ],\n",
      "  \"Dosages\": [\n",
      "    \"500mg\",\n",
      "    \"10mg\"\n",
      "  ],\n",
      "  \"Prices (INR)\": [\n",
      "    \"15\",\n",
      "    \"20\"\n",
      "  ]\n",
      "}\n"
     ]
    }
   ],
   "source": [
    "symptoms = [\"Runny nose, sore throat, sneezing\"]#, \"Sore throat\", \"Cough\"]\n",
    "result = full_pipeline(symptoms)\n",
    "print(json.dumps(result, indent=2))"
   ]
  },
  {
   "cell_type": "code",
   "execution_count": 30,
   "id": "14c44594",
   "metadata": {},
   "outputs": [
    {
     "data": {
      "text/plain": [
       "('saved_model/bert_disease_classifier/tokenizer_config.json',\n",
       " 'saved_model/bert_disease_classifier/special_tokens_map.json',\n",
       " 'saved_model/bert_disease_classifier/vocab.txt',\n",
       " 'saved_model/bert_disease_classifier/added_tokens.json')"
      ]
     },
     "execution_count": 30,
     "metadata": {},
     "output_type": "execute_result"
    }
   ],
   "source": [
    "model.save_pretrained(\"saved_model/bert_disease_classifier\")\n",
    "tokenizer.save_pretrained(\"saved_model/bert_disease_classifier\")\n"
   ]
  },
  {
   "cell_type": "code",
   "execution_count": 31,
   "id": "1c326d7e",
   "metadata": {},
   "outputs": [],
   "source": [
    "import faiss\n",
    "\n",
    "# Ensure `index` is a FAISS object (IndexFlatL2, IndexIVF, etc.)\n",
    "faiss.write_index(index, \"saved_model/faiss_index.index\")\n"
   ]
  },
  {
   "cell_type": "code",
   "execution_count": 32,
   "id": "c439bde7",
   "metadata": {},
   "outputs": [],
   "source": [
    "import pickle\n",
    "\n",
    "with open(\"saved_model/full_records.pkl\", \"wb\") as f:\n",
    "    pickle.dump(full_records, f)\n"
   ]
  },
  {
   "cell_type": "code",
   "execution_count": 34,
   "id": "c8d241f7",
   "metadata": {},
   "outputs": [],
   "source": [
    "with open(\"saved_model/label_encoder.pkl\", \"wb\") as f:\n",
    "    pickle.dump(label_encoder, f)\n"
   ]
  }
 ],
 "metadata": {
  "kernelspec": {
   "display_name": "env",
   "language": "python",
   "name": "python3"
  },
  "language_info": {
   "codemirror_mode": {
    "name": "ipython",
    "version": 3
   },
   "file_extension": ".py",
   "mimetype": "text/x-python",
   "name": "python",
   "nbconvert_exporter": "python",
   "pygments_lexer": "ipython3",
   "version": "3.11.11"
  }
 },
 "nbformat": 4,
 "nbformat_minor": 5
}
